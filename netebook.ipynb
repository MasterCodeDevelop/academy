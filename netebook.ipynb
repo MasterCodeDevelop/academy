{
 "cells": [
  {
   "cell_type": "markdown",
   "metadata": {},
   "source": [
    "# <u>**ACADEMY**</u> : Educational Systems Data Analysis"
   ]
  },
  {
   "cell_type": "markdown",
   "metadata": {},
   "source": [
    "## Author"
   ]
  },
  {
   "cell_type": "markdown",
   "metadata": {},
   "source": [
    "- Mohamed Ali EL HAMECH\n",
    "- E-mail : master.code.develop@gmail.com\n",
    "- Affiliation : ACADEMY #OpenClassRooms\n",
    "<p><img align=\"left\" src=\"https://github-readme-stats.vercel.app/api/top-langs?username=mastercodedevelop&show_icons=true&locale=en&layout=compact\" alt=\"mastercodedevelop\" />"
   ]
  },
  {
   "cell_type": "markdown",
   "metadata": {},
   "source": [
    "## Introduction:"
   ]
  },
  {
   "cell_type": "markdown",
   "metadata": {},
   "source": [
    ">In the rapidly evolving landscape of online education, ACADEMY, a burgeoning EdTech start-up, has been making significant strides by offering high-quality online training content tailored for high school and university students. As part of its strategic vision, ACADEMY is keenly exploring opportunities for international expansion, aiming to tap into markets with a robust educational framework and a potential clientele for its services.\n",
    "\n",
    "_The objective of this analysis is twofold. Firstly, it seeks to delve into global educational data, sourced from the World Bank, to ascertain the viability and potential of various countries as prospective markets for ACADEMY. This dataset, curated by the \"EdStats All Indicator Query\" of the World Bank, boasts a comprehensive collection of over 4,000 international indicators. These indicators span a range of metrics, from access to education and graduation rates to insights about educators and educational expenditures._\n",
    "\n",
    "_Secondly, this analysis aims to provide a clear, data-driven narrative that would aid ACADEMY's decision-makers in charting the company's international trajectory. By evaluating the quality of the dataset, understanding its breadth and depth, and extracting relevant insights, we hope to offer a roadmap that aligns with ACADEMY's mission and vision._"
   ]
  },
  {
   "cell_type": "markdown",
   "metadata": {},
   "source": [
    "## Import Necessary Libraries\n",
    "> Before you can work with the data, you need to import the necessary libraries."
   ]
  },
  {
   "cell_type": "code",
   "execution_count": 2,
   "metadata": {},
   "outputs": [],
   "source": [
    "import pandas as pd\n",
    "import numpy as np"
   ]
  },
  {
   "cell_type": "markdown",
   "metadata": {},
   "source": [
    "## Load the Data"
   ]
  },
  {
   "cell_type": "code",
   "execution_count": 3,
   "metadata": {},
   "outputs": [],
   "source": [
    "data = pd.read_csv('./data/EdStatsData.csv')"
   ]
  }
 ],
 "metadata": {
  "kernelspec": {
   "display_name": "base",
   "language": "python",
   "name": "python3"
  },
  "language_info": {
   "codemirror_mode": {
    "name": "ipython",
    "version": 3
   },
   "file_extension": ".py",
   "mimetype": "text/x-python",
   "name": "python",
   "nbconvert_exporter": "python",
   "pygments_lexer": "ipython3",
   "version": "3.9.13"
  },
  "orig_nbformat": 4
 },
 "nbformat": 4,
 "nbformat_minor": 2
}

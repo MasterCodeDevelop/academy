{
 "cells": [
  {
   "cell_type": "markdown",
   "metadata": {},
   "source": [
    "# <u>**ACADEMY**</u> : Educational Systems Data Analysis"
   ]
  },
  {
   "cell_type": "markdown",
   "metadata": {},
   "source": [
    "## Author"
   ]
  },
  {
   "cell_type": "markdown",
   "metadata": {},
   "source": [
    "- Mohamed Ali EL HAMECH\n",
    "- E-mail : master.code.develop@gmail.com\n",
    "- Affiliation : ACADEMY #OpenClassRooms\n",
    "<p><img align=\"left\" src=\"https://github-readme-stats.vercel.app/api/top-langs?username=mastercodedevelop&show_icons=true&locale=en&layout=compact\" alt=\"mastercodedevelop\" />"
   ]
  }
 ],
 "metadata": {
  "kernelspec": {
   "display_name": "base",
   "language": "python",
   "name": "python3"
  },
  "language_info": {
   "name": "python",
   "version": "3.9.13"
  },
  "orig_nbformat": 4
 },
 "nbformat": 4,
 "nbformat_minor": 2
}
